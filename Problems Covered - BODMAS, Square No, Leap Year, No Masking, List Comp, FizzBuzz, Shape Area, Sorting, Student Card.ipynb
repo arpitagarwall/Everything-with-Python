{
 "cells": [
  {
   "cell_type": "markdown",
   "metadata": {},
   "source": [
    "# Problem 1 : Input two integers from STDIN and print three lines as output shown\n",
    "    \n",
    "Sample Input \n",
    "\n",
    "3\n",
    "2\n",
    "\n",
    "Sample Output \n",
    "\n",
    "5\n",
    "1\n",
    "6"
   ]
  },
  {
   "cell_type": "code",
   "execution_count": 2,
   "metadata": {},
   "outputs": [
    {
     "name": "stdout",
     "output_type": "stream",
     "text": [
      "Enter first number: 10\n",
      "Enter Second number: 10\n",
      "Addition:  20\n",
      "Subtraction:  0\n",
      "Multiplication:  100\n"
     ]
    }
   ],
   "source": [
    "num1 = int(input('Enter first number: '))\n",
    "num2 = int(input('Enter Second number: '))\n",
    "\n",
    "print('Addition: ',num1 + num2)\n",
    "print('Subtraction: ',num1 - num2)\n",
    "print('Multiplication: ',num1 * num2)"
   ]
  },
  {
   "cell_type": "markdown",
   "metadata": {},
   "source": [
    "# Problem 2 : Read two integers and print two lines. The first line should contain integer division,  a//b . The second line should contain float division, a /b ."
   ]
  },
  {
   "cell_type": "code",
   "execution_count": 5,
   "metadata": {},
   "outputs": [
    {
     "name": "stdout",
     "output_type": "stream",
     "text": [
      "4\n",
      "3\n",
      "1\n",
      "1.3333333333333333\n"
     ]
    }
   ],
   "source": [
    "num1 = int(input())\n",
    "num2 = int(input())\n",
    "\n",
    "print(int(num1 / num2))\n",
    "print(float(num1 / num2))"
   ]
  },
  {
   "cell_type": "markdown",
   "metadata": {},
   "source": [
    "# Problem 3 : Read an integer N. For all non-negative integers i<N, print i ** 2. See the sample for details."
   ]
  },
  {
   "cell_type": "code",
   "execution_count": 8,
   "metadata": {},
   "outputs": [
    {
     "name": "stdout",
     "output_type": "stream",
     "text": [
      "5\n",
      "0\n",
      "1\n",
      "4\n",
      "9\n",
      "16\n"
     ]
    }
   ],
   "source": [
    "num = int(input())\n",
    "\n",
    "for i in range(0, num):\n",
    "    print(i ** 2)"
   ]
  },
  {
   "cell_type": "markdown",
   "metadata": {},
   "source": [
    "# Problem 4 : To Check if it is a leap year or not"
   ]
  },
  {
   "cell_type": "code",
   "execution_count": 60,
   "metadata": {},
   "outputs": [
    {
     "name": "stdout",
     "output_type": "stream",
     "text": [
      "2000\n",
      "True\n"
     ]
    }
   ],
   "source": [
    "def is_leap(year):\n",
    "    \n",
    "    leap = False\n",
    "    \n",
    "    if (year % 4) == 0 and (year % 100) != 0:\n",
    "            leap = True\n",
    "    elif (year % 400) == 0:\n",
    "        leap = True\n",
    "    elif (year % 100) == 0:\n",
    "        leap = False\n",
    "    else:\n",
    "        leap = False\n",
    "    \n",
    "    return leap\n",
    "\n",
    "year = int(input())\n",
    "print(is_leap(year))"
   ]
  },
  {
   "cell_type": "markdown",
   "metadata": {},
   "source": [
    "# Problem 5 : print integer till its value"
   ]
  },
  {
   "cell_type": "code",
   "execution_count": 75,
   "metadata": {},
   "outputs": [
    {
     "name": "stdout",
     "output_type": "stream",
     "text": [
      "10\n",
      "12345678910"
     ]
    }
   ],
   "source": [
    "if __name__ == '__main__':\n",
    "    num = int(input())\n",
    "    \n",
    "for i in range(1, num + 1):\n",
    "    print(i , end = \"\")"
   ]
  },
  {
   "cell_type": "markdown",
   "metadata": {},
   "source": [
    "# Problem 6: Print the Alphabets\n",
    "    \n",
    "Sample Input\n",
    "\n",
    "AABCAAADA\n",
    "3\n",
    "\n",
    "Sample Output\n",
    "\n",
    "AB\n",
    "CA\n",
    "AD"
   ]
  },
  {
   "cell_type": "code",
   "execution_count": 108,
   "metadata": {},
   "outputs": [],
   "source": [
    "def merge_the_tools(string, k):\n",
    "    \n",
    "    for i in range(0, len(string), k):\n",
    "        short_str = ''\n",
    "        for c in string[i:i+k]:\n",
    "            if c not in short_str:\n",
    "                short_str += c \n",
    "        print(short_str)"
   ]
  },
  {
   "cell_type": "code",
   "execution_count": 109,
   "metadata": {},
   "outputs": [
    {
     "name": "stdout",
     "output_type": "stream",
     "text": [
      "AB\n",
      "CA\n",
      "AD\n"
     ]
    }
   ],
   "source": [
    "a = 'AABCAAADA'\n",
    "merge_the_tools(a, 3)"
   ]
  },
  {
   "cell_type": "markdown",
   "metadata": {},
   "source": [
    "# Problem 7: 12 digit phone numbers with 2 digits of ISD code starting with +\n",
    "\n",
    "e.g: +86-(99)12345678 ----> (+86)-###-###-5678"
   ]
  },
  {
   "cell_type": "code",
   "execution_count": 23,
   "metadata": {},
   "outputs": [
    {
     "name": "stdout",
     "output_type": "stream",
     "text": [
      "869912345678\n",
      "<class 'str'>\n",
      "+(86)-###-###-5678\n"
     ]
    }
   ],
   "source": [
    "import re\n",
    "\n",
    "phone = '+86-(99)12345678'\n",
    "\n",
    "digit = re.sub('\\D', '', phone)\n",
    "print(digit)\n",
    "print(type(digit))\n",
    "\n",
    "if len(digit) != 12:\n",
    "    print('None')\n",
    "else:\n",
    "    result = '+({})-###-###-{}'.format(digit[0:2], digit[8:12])\n",
    "    print(result)\n"
   ]
  },
  {
   "cell_type": "markdown",
   "metadata": {},
   "source": [
    "# Problem 8: Print String and its count in a List.\n",
    "    \n",
    "Input \"the quick\"\n",
    "\n",
    "Output [[\"THE\",3],[\"QUICK\",5]]"
   ]
  },
  {
   "cell_type": "code",
   "execution_count": 14,
   "metadata": {},
   "outputs": [
    {
     "name": "stdout",
     "output_type": "stream",
     "text": [
      "THE QUICK\n",
      "['THE', 'QUICK']\n",
      "[['THE', 3], ['QUICK', 5]]\n"
     ]
    }
   ],
   "source": [
    "statement = \"the quick\"\n",
    "\n",
    "word = statement.upper()\n",
    "print(word)\n",
    "\n",
    "space = word.split()\n",
    "print(space)\n",
    "\n",
    "y = []\n",
    "\n",
    "for i in space:\n",
    "    length = len(i)\n",
    "    y.append([i,length])\n",
    "print(y)\n",
    "    "
   ]
  },
  {
   "cell_type": "markdown",
   "metadata": {},
   "source": [
    "# Problem 9 : List Comprehension\n",
    "    \n",
    "Sample Input 0\n",
    "\n",
    "1\n",
    "1\n",
    "1\n",
    "2\n",
    "\n",
    "Sample Output 0\n",
    "\n",
    "[[0, 0, 0], [0, 0, 1], [0, 1, 0], [1, 0, 0], [1, 1, 1]]"
   ]
  },
  {
   "cell_type": "code",
   "execution_count": 21,
   "metadata": {},
   "outputs": [
    {
     "name": "stdout",
     "output_type": "stream",
     "text": [
      "1\n",
      "1\n",
      "1\n",
      "2\n"
     ]
    }
   ],
   "source": [
    "x = int(input())\n",
    "y = int(input())\n",
    "z = int(input())\n",
    "n = int(input())\n",
    "\n"
   ]
  },
  {
   "cell_type": "code",
   "execution_count": 35,
   "metadata": {},
   "outputs": [
    {
     "name": "stdout",
     "output_type": "stream",
     "text": [
      "[[0, 0, 0], [0, 0, 1], [0, 1, 0], [1, 0, 0], [1, 1, 1]]\n"
     ]
    }
   ],
   "source": [
    "print([[i, j, k] for i in range(0, x+1) for j in range(0, y+1) for k in range(0, z+1) if i + j + k != n])"
   ]
  },
  {
   "cell_type": "markdown",
   "metadata": {},
   "source": [
    "# Problem 10 : Second Highest Number in a list"
   ]
  },
  {
   "cell_type": "code",
   "execution_count": 56,
   "metadata": {},
   "outputs": [
    {
     "name": "stdout",
     "output_type": "stream",
     "text": [
      "5\n",
      "2 3 6 6 6 \n",
      "3\n"
     ]
    }
   ],
   "source": [
    "n = int(input())\n",
    "arr = list(map(int, input().split()))\n",
    "\n",
    "max_num = max(arr)\n",
    "\n",
    "i = 0\n",
    "\n",
    "while i < n:\n",
    "    if max_num == max(arr):\n",
    "        arr.remove(max(arr))\n",
    "    i += 1\n",
    "    continue\n",
    "print(max(arr))"
   ]
  },
  {
   "cell_type": "markdown",
   "metadata": {},
   "source": [
    "# Problem 11: FizzBuzz Challenge\n",
    "    \n",
    "Input\n",
    "\n",
    "5\n",
    "\n",
    "Output\n",
    "\n",
    "1\n",
    "2\n",
    "Fizz\n",
    "4\n",
    "Buzz"
   ]
  },
  {
   "cell_type": "code",
   "execution_count": 6,
   "metadata": {},
   "outputs": [
    {
     "name": "stdout",
     "output_type": "stream",
     "text": [
      "15\n",
      "1\n",
      "2\n",
      "Fizz\n",
      "4\n",
      "Buzz\n",
      "Fizz\n",
      "7\n",
      "8\n",
      "Fizz\n",
      "Buzz\n",
      "11\n",
      "Fizz\n",
      "13\n",
      "14\n",
      "FizzBuzz\n"
     ]
    }
   ],
   "source": [
    "def fizzbuzz(num):\n",
    "    \n",
    "    for i in range(1, num+1):\n",
    "        if i % 3 == 0 and i % 5 == 0:\n",
    "            print('FizzBuzz')\n",
    "        elif i % 3 == 0 and i % 5 != 0:\n",
    "            print('Fizz')\n",
    "        elif i % 3 != 0 and i % 5 == 0:\n",
    "            print('Buzz')\n",
    "        else:\n",
    "            print(i)\n",
    "\n",
    "num = int(input())\n",
    "fizzbuzz(num)"
   ]
  },
  {
   "cell_type": "markdown",
   "metadata": {},
   "source": [
    "# Problem 12: Average Function"
   ]
  },
  {
   "cell_type": "code",
   "execution_count": 25,
   "metadata": {},
   "outputs": [
    {
     "name": "stdout",
     "output_type": "stream",
     "text": [
      "1 2 3\n",
      "2.00\n"
     ]
    }
   ],
   "source": [
    "num = input().split()\n",
    "num_list = list(map(int, num))\n",
    "\n",
    "def avg(avg_list):\n",
    "    \n",
    "    count = len(avg_list)\n",
    "    \n",
    "    total = 0\n",
    "    \n",
    "    for i in range(0, len(avg_list)):\n",
    "        total = total + avg_list[i]\n",
    "        average = float(total / count)\n",
    "    print(\"{:.2f}\".format(average))\n",
    "            \n",
    "avg(num_list)     "
   ]
  },
  {
   "cell_type": "markdown",
   "metadata": {},
   "source": [
    "# Problem 13: Python Shape with Area"
   ]
  },
  {
   "cell_type": "code",
   "execution_count": 27,
   "metadata": {},
   "outputs": [],
   "source": [
    "class Rectangle:\n",
    "    \n",
    "    def __init__(self, l, w):\n",
    "        self.length = l\n",
    "        self.breadth = w\n",
    "        \n",
    "    def area(self):\n",
    "        return self.length * self.breadth\n",
    "\n",
    "class Circle:\n",
    "    \n",
    "    def __init__(self, r):\n",
    "        self.radius = r\n",
    "        \n",
    "    def area(self):\n",
    "        return math.pi * self.radius * self.radius"
   ]
  },
  {
   "cell_type": "markdown",
   "metadata": {},
   "source": [
    "# Problem 14 : Students having lowest grades  "
   ]
  },
  {
   "cell_type": "code",
   "execution_count": 68,
   "metadata": {},
   "outputs": [
    {
     "name": "stdout",
     "output_type": "stream",
     "text": [
      "4\n",
      "mridu\n",
      "38\n",
      "appy\n",
      "38\n",
      "disha\n",
      "40\n",
      "manju\n",
      "50\n",
      "disha\n"
     ]
    }
   ],
   "source": [
    "students = []\n",
    "marks = []\n",
    "num = int(input())\n",
    "\n",
    "for i in range(num):\n",
    "    name = input()\n",
    "    score = float(input())\n",
    "    students.append([name, score])\n",
    "    marks.append(score)\n",
    "\n",
    "\n",
    "students.sort()\n",
    "marks.sort()\n",
    "min_marks = min(marks)\n",
    "\n",
    "k = 0\n",
    "\n",
    "while k < num:\n",
    "    if min_marks == min(marks):\n",
    "        marks.remove(min(marks))\n",
    "    k += 1\n",
    "    continue\n",
    "a = min(marks)\n",
    "\n",
    "for b,c in students:\n",
    "    if a == c:\n",
    "        print(b)"
   ]
  },
  {
   "cell_type": "markdown",
   "metadata": {},
   "source": [
    "# Problem 15 : Remove the Lowest item from list"
   ]
  },
  {
   "cell_type": "code",
   "execution_count": 6,
   "metadata": {},
   "outputs": [
    {
     "name": "stdout",
     "output_type": "stream",
     "text": [
      "19.0\n",
      "[20.0, 20.0, 21.0]\n"
     ]
    }
   ],
   "source": [
    "num=[20.0, 20.0, 19.0, 19.0, 21.0]\n",
    "\n",
    "count = len(num)\n",
    "\n",
    "lowest=min(num)\n",
    "print(lowest)\n",
    "\n",
    "i = 0\n",
    "while i < count:\n",
    "    if lowest == min(num):\n",
    "        num.remove(min(num))\n",
    "    i += 1\n",
    "print(num)"
   ]
  },
  {
   "cell_type": "markdown",
   "metadata": {},
   "source": [
    "# Problem 16: Creating a Sorting function for List"
   ]
  },
  {
   "cell_type": "code",
   "execution_count": 59,
   "metadata": {},
   "outputs": [
    {
     "name": "stdout",
     "output_type": "stream",
     "text": [
      "[-1, 0, 1, 2, 5, 6, 7, 10, 51]\n",
      "[51, 10, 7, 6, 5, 2, 1, 0, -1]\n"
     ]
    }
   ],
   "source": [
    "num = [1, 7, 10, 5, 51, 6, 2, -1, 0]\n",
    "\n",
    "count = len(num)\n",
    "\n",
    "#Sorting\n",
    "for i in range(0, count):\n",
    "    for j in range(0, count):\n",
    "        if num[i] < num[j]:\n",
    "            ele = num.pop(i)\n",
    "            num.insert(j, ele)\n",
    "        else:\n",
    "            pass\n",
    "print(num)\n",
    "\n",
    "#Reverse Sorting\n",
    "for i in range(0, count):\n",
    "    for j in range(0, count):\n",
    "        if num[i] > num[j]:\n",
    "            ele = num.pop(i)\n",
    "            num.insert(j, ele)\n",
    "        else:\n",
    "            pass\n",
    "print(num)     "
   ]
  },
  {
   "cell_type": "code",
   "execution_count": null,
   "metadata": {},
   "outputs": [],
   "source": []
  }
 ],
 "metadata": {
  "kernelspec": {
   "display_name": "Python 3",
   "language": "python",
   "name": "python3"
  },
  "language_info": {
   "codemirror_mode": {
    "name": "ipython",
    "version": 3
   },
   "file_extension": ".py",
   "mimetype": "text/x-python",
   "name": "python",
   "nbconvert_exporter": "python",
   "pygments_lexer": "ipython3",
   "version": "3.7.4"
  }
 },
 "nbformat": 4,
 "nbformat_minor": 2
}
