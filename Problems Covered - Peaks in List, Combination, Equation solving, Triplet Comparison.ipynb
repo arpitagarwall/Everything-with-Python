{
 "cells": [
  {
   "cell_type": "code",
   "execution_count": 1,
   "metadata": {},
   "outputs": [
    {
     "name": "stdout",
     "output_type": "stream",
     "text": [
      "3.7.4 (default, Aug  9 2019, 18:34:13) [MSC v.1915 64 bit (AMD64)]\n"
     ]
    }
   ],
   "source": [
    "import sys\n",
    "print (sys.version)"
   ]
  },
  {
   "cell_type": "markdown",
   "metadata": {},
   "source": [
    "# Problem 1:\n",
    "A. Find peaks which are max values in a window of size 2 on both sides.\n",
    "\n",
    "B. Use scipy.signal.find_peaks [https://docs.scipy.org/doc/scipy/reference/generated/scipy.signal.find_peaks.html]"
   ]
  },
  {
   "cell_type": "code",
   "execution_count": 28,
   "metadata": {},
   "outputs": [
    {
     "name": "stdout",
     "output_type": "stream",
     "text": [
      "[11, 3, 4, 5, 7, 6, 4, 5, 10, 15]\n"
     ]
    }
   ],
   "source": [
    "lst = [11,3,4,5,7,6,4,5,10,15]\n",
    "print(lst)"
   ]
  },
  {
   "cell_type": "code",
   "execution_count": 30,
   "metadata": {},
   "outputs": [
    {
     "name": "stdout",
     "output_type": "stream",
     "text": [
      "11\n",
      "7\n",
      "15\n"
     ]
    }
   ],
   "source": [
    "if (lst[0] > lst[1]) and (lst[0] > lst[2]):\n",
    "    print(lst[0])\n",
    "    \n",
    "if (lst[1] > lst[0]) and (lst[1] > lst[2]) and (lst[1] > lst[3]):\n",
    "    print(lst[1])\n",
    "\n",
    "for i in range(2, len(lst) - 2):\n",
    "    if (lst[i] > lst[i-1]) and (lst[i] > lst[i+1]):\n",
    "        if lst[i] > lst[i-2] and lst[i] > lst[i+2]:\n",
    "            print(lst[i])\n",
    "    \n",
    "if lst[len(lst) - 2] > lst[len(lst) - 3] and lst[len(lst) - 2] > lst[len(lst) - 1] and lst[len(lst) - 2] > lst[len(lst) - 4]:\n",
    "    print(lst[-2])    \n",
    "    \n",
    "if lst[len(lst) - 1] > lst[len(lst) - 2] and lst[len(lst) - 1] > lst[len(lst) - 3]:\n",
    "    print(lst[-1])"
   ]
  },
  {
   "cell_type": "code",
   "execution_count": 33,
   "metadata": {},
   "outputs": [
    {
     "data": {
      "text/plain": [
       "(array([4], dtype=int64), {})"
      ]
     },
     "execution_count": 33,
     "metadata": {},
     "output_type": "execute_result"
    }
   ],
   "source": [
    "from scipy.signal import find_peaks\n",
    "\n",
    "result = find_peaks(lst)\n",
    "result"
   ]
  },
  {
   "cell_type": "markdown",
   "metadata": {},
   "source": [
    "# Problem 2: [Combinations] All possible ways to pick 3 elements out of 5 elements\n",
    "\n",
    "HINT: Use recursion. Lets work out the logic first! \"Pick one and recurse\"\n",
    "\n",
    "Google \"combinations in Python\" for libraries-based solution."
   ]
  },
  {
   "cell_type": "code",
   "execution_count": 73,
   "metadata": {
    "scrolled": true
   },
   "outputs": [
    {
     "name": "stdout",
     "output_type": "stream",
     "text": [
      "[1, 2, 3, 4, 5]\n",
      "[(1, 2, 3), (1, 2, 4), (1, 2, 5), (1, 3, 4), (1, 3, 5), (1, 4, 5), (2, 3, 4), (2, 3, 5), (2, 4, 5), (3, 4, 5)]\n"
     ]
    }
   ],
   "source": [
    "from itertools import combinations \n",
    "\n",
    "F1 = [1, 2, 3, 4, 5]\n",
    "print(F1)\n",
    "\n",
    "print(list(combinations(F1, 3)))"
   ]
  },
  {
   "cell_type": "code",
   "execution_count": 103,
   "metadata": {},
   "outputs": [],
   "source": [
    "def comb(num_list, cnt):\n",
    "    \n",
    "    if cnt == 0:\n",
    "        return [[]]\n",
    "    \n",
    "    comb_lst = []\n",
    "    \n",
    "    for ele in range(0, len(num_list)):\n",
    "        start_list = num_list[ele]\n",
    "        rem_list = num_list[ele+1:]\n",
    "        for obj in comb(rem_list, cnt-1):\n",
    "            comb_lst.append([start_list] + obj)\n",
    "    return comb_lst"
   ]
  },
  {
   "cell_type": "code",
   "execution_count": 104,
   "metadata": {},
   "outputs": [
    {
     "data": {
      "text/plain": [
       "[[1, 2, 3],\n",
       " [1, 2, 4],\n",
       " [1, 2, 5],\n",
       " [1, 3, 4],\n",
       " [1, 3, 5],\n",
       " [1, 4, 5],\n",
       " [2, 3, 4],\n",
       " [2, 3, 5],\n",
       " [2, 4, 5],\n",
       " [3, 4, 5]]"
      ]
     },
     "execution_count": 104,
     "metadata": {},
     "output_type": "execute_result"
    }
   ],
   "source": [
    "comb(list(F1), 3)"
   ]
  },
  {
   "cell_type": "markdown",
   "metadata": {},
   "source": [
    "# Problem 3: Solve for x in x^5 - x^4 + 2*x^3 - x^2 + x = 3"
   ]
  },
  {
   "cell_type": "code",
   "execution_count": 28,
   "metadata": {},
   "outputs": [],
   "source": [
    "def f(x):\n",
    "    return x*x*x*x*x - x*x*x*x + 2*x*x*x - x*x + x - 3\n",
    "\n",
    "def df(x):\n",
    "    return 5*x*x*x*x - 4*x*x*x + 6*x*x - 2*x + 1\n",
    "\n",
    "def NR(x):\n",
    "    result = f(x) / df(x)\n",
    "    #print(result)\n",
    "    \n",
    "    while abs(result) >= 0.00001:\n",
    "        result = f(x) / df(x)\n",
    "        #print(result)\n",
    "        x = x - result\n",
    "        print(x)"
   ]
  },
  {
   "cell_type": "code",
   "execution_count": 35,
   "metadata": {
    "scrolled": true
   },
   "outputs": [
    {
     "name": "stdout",
     "output_type": "stream",
     "text": [
      "1.608695652173913\n",
      "1.3292445743288184\n",
      "1.178333772318315\n",
      "1.1380294528661365\n",
      "1.135560415181563\n",
      "1.1355516900488671\n"
     ]
    }
   ],
   "source": [
    "x1 = 2\n",
    "NR(x1)"
   ]
  },
  {
   "cell_type": "markdown",
   "metadata": {},
   "source": [
    "# Problem 4: Triplet Comparison"
   ]
  },
  {
   "cell_type": "code",
   "execution_count": 17,
   "metadata": {},
   "outputs": [
    {
     "name": "stdout",
     "output_type": "stream",
     "text": [
      "Enter a Triplet 1 : 123\n",
      "1 2 3\n",
      "[1, 2, 3]\n",
      "Enter a Triplet 1 : 452\n",
      "4 5 2\n",
      "[4, 5, 2]\n"
     ]
    }
   ],
   "source": [
    "l1, l2, l3 = input('Enter a Triplet 1 : ')\n",
    "#input from user\n",
    "print(l1, l2, l3)\n",
    "num1 = list(map(int, (l1, l2, l3)))\n",
    "# mapping input in list and converting into integer\n",
    "print(num1)\n",
    "\n",
    "l4, l5, l6 = input('Enter a Triplet 1 : ')\n",
    "#input from user\n",
    "print(l4, l5, l6)\n",
    "num2 = list(map(int, (l4, l5, l6)))\n",
    "# mapping input in list and converting into integer\n",
    "print(num2)"
   ]
  },
  {
   "cell_type": "code",
   "execution_count": 56,
   "metadata": {},
   "outputs": [
    {
     "name": "stdout",
     "output_type": "stream",
     "text": [
      "(1, 2)\n"
     ]
    }
   ],
   "source": [
    "count = 0\n",
    "flag = 0\n",
    "\n",
    "for i in range(0, len(num1)):\n",
    "    if num1[i] > num2[i]:\n",
    "        count = count + 1\n",
    "        \n",
    "        \n",
    "    if num1[i] < num2[i]:\n",
    "        flag = flag + 1\n",
    "        \n",
    "    else:\n",
    "        num1[i] == num2[i]\n",
    "        pass\n",
    "\n",
    "print((count, flag))"
   ]
  },
  {
   "cell_type": "code",
   "execution_count": null,
   "metadata": {},
   "outputs": [],
   "source": []
  }
 ],
 "metadata": {
  "kernelspec": {
   "display_name": "Python 3",
   "language": "python",
   "name": "python3"
  },
  "language_info": {
   "codemirror_mode": {
    "name": "ipython",
    "version": 3
   },
   "file_extension": ".py",
   "mimetype": "text/x-python",
   "name": "python",
   "nbconvert_exporter": "python",
   "pygments_lexer": "ipython3",
   "version": "3.7.4"
  }
 },
 "nbformat": 4,
 "nbformat_minor": 2
}
