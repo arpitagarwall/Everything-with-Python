{
 "cells": [
  {
   "cell_type": "code",
   "execution_count": 95,
   "metadata": {},
   "outputs": [
    {
     "name": "stdout",
     "output_type": "stream",
     "text": [
      "Enter a number: 5\n",
      "5 x 1 = 5\n",
      "5 x 2 = 10\n",
      "5 x 3 = 15\n",
      "5 x 4 = 20\n",
      "5 x 5 = 25\n",
      "5 x 6 = 30\n",
      "5 x 7 = 35\n",
      "5 x 8 = 40\n",
      "5 x 9 = 45\n",
      "5 x 10 = 50\n"
     ]
    }
   ],
   "source": [
    "# Reference for assignment Google, GeeksforGeeks, Stacloverflow.\n",
    "\n",
    "\n",
    "#1 Write a function that inputs a number and prints the multiplication table of that number.\n",
    "\n",
    "def multiply_num(num1):\n",
    "    '''\n",
    "    Function for multiplication number\n",
    "    '''\n",
    "    for numbers in range(1, 11):\n",
    "        print(num1, 'x', numbers, '=', num1*numbers)\n",
    "\n",
    "\n",
    "a = int(input('Enter a number: '))\n",
    "multiply_num(a)"
   ]
  },
  {
   "cell_type": "code",
   "execution_count": 99,
   "metadata": {},
   "outputs": [
    {
     "name": "stdout",
     "output_type": "stream",
     "text": [
      "(3,5)\n",
      "(5,7)\n",
      "(11,13)\n",
      "(17,19)\n",
      "(29,31)\n",
      "(41,43)\n",
      "(59,61)\n",
      "(71,73)\n",
      "(101,103)\n",
      "(107,109)\n",
      "(137,139)\n",
      "(149,151)\n",
      "(179,181)\n",
      "(191,193)\n",
      "(197,199)\n",
      "(227,229)\n",
      "(239,241)\n",
      "(269,271)\n",
      "(281,283)\n",
      "(311,313)\n",
      "(347,349)\n",
      "(419,421)\n",
      "(431,433)\n",
      "(461,463)\n",
      "(521,523)\n",
      "(569,571)\n",
      "(599,601)\n",
      "(617,619)\n",
      "(641,643)\n",
      "(659,661)\n",
      "(809,811)\n",
      "(821,823)\n",
      "(827,829)\n",
      "(857,859)\n",
      "(881,883)\n"
     ]
    }
   ],
   "source": [
    "#2 Write a program to print twin primes less than 1000. If two consecutive odd numbers are both prime then they are known as twin primes\n",
    "def prime1(a):\n",
    "    '''\n",
    "    To get Prime Number\n",
    "    '''\n",
    "\n",
    "    for i in range(a, a+1):\n",
    "        if i > 1:\n",
    "            for num in range(2, i):\n",
    "                if i % num == 0:\n",
    "                    return False\n",
    "            return True\n",
    "                \n",
    "                \n",
    "def twinprime(c, d):\n",
    "    '''\n",
    "    to get twin prime\n",
    "    '''\n",
    "    for ele in range(c, d):\n",
    "        num = ele + 2\n",
    "        if(prime1(ele) and prime1(num)):\n",
    "            print('({0},{1})'.format(ele, num))\n",
    "            \n",
    "\n",
    "twinprime(3,1000)"
   ]
  },
  {
   "cell_type": "code",
   "execution_count": 100,
   "metadata": {},
   "outputs": [
    {
     "name": "stdout",
     "output_type": "stream",
     "text": [
      "3\n",
      "3\n",
      "5\n",
      "7\n"
     ]
    }
   ],
   "source": [
    "#3 Write a program to find out the prime factors of a number. Example: prime factors of 56 -2, 2, 2, 7\n",
    "\n",
    "def primefactor(n):\n",
    "    '''\n",
    "    to get prime factor for any number\n",
    "    '''\n",
    "    while n % 2 == 0:\n",
    "        print(2,)\n",
    "        n = n / 2\n",
    "    \n",
    "    for i in range(3, int((n**0.5)+1), 2):\n",
    "        while n % i == 0:\n",
    "            print(i,)\n",
    "            n = n / i\n",
    "    if n > 2:\n",
    "        print(int(n)) \n",
    "        \n",
    "        \n",
    "primefactor(315)"
   ]
  },
  {
   "cell_type": "code",
   "execution_count": 101,
   "metadata": {},
   "outputs": [
    {
     "name": "stdout",
     "output_type": "stream",
     "text": [
      "60\n",
      "10\n"
     ]
    }
   ],
   "source": [
    "#4 Write a program to implement these formulae of permutations and combinations.Number of permutations of n objects taken r at a time: p(n, r) = n! / (n-r)!. Number ofcombinations of n objects taken r at a time is: c(n, r) = n! / (r!*(n-r)!) = p(n,r) / r\n",
    "\n",
    "def factorial(n):\n",
    "    '''\n",
    "    To find factorial of number\n",
    "    '''\n",
    "    num = 1\n",
    "    \n",
    "    if n <= 1:\n",
    "        return 1\n",
    "    else:\n",
    "        for i in range(2, n+1):\n",
    "            num = (num * i)\n",
    "        return num\n",
    "\n",
    "def permutation(a, b):\n",
    "    '''\n",
    "    permutation of a number\n",
    "    '''\n",
    "    return (factorial(a) / factorial(a - b))\n",
    "\n",
    "\n",
    "def combination(a, b):\n",
    "    '''\n",
    "    combination of numbers\n",
    "    '''\n",
    "    return (factorial(a) / (factorial(b)*factorial(a - b)))\n",
    "    \n",
    "\n",
    "print(int(permutation(5, 3)))\n",
    "print(int(combination(5, 3)))"
   ]
  },
  {
   "cell_type": "code",
   "execution_count": 102,
   "metadata": {},
   "outputs": [
    {
     "name": "stdout",
     "output_type": "stream",
     "text": [
      "Enter a number: 5\n",
      "101"
     ]
    }
   ],
   "source": [
    "#5 Write a function that converts a decimal number to binary number\n",
    "\n",
    "def DtoB(n):\n",
    "    '''\n",
    "    This function convert Decimal to binary\n",
    "    '''\n",
    "    \n",
    "    if n > 1:\n",
    "        DtoB(n // 2)\n",
    "    print(n % 2, end = '')\n",
    "    \n",
    "    \n",
    "num = int(input('Enter a number: '))\n",
    "DtoB(num)"
   ]
  },
  {
   "cell_type": "code",
   "execution_count": 103,
   "metadata": {},
   "outputs": [
    {
     "name": "stdout",
     "output_type": "stream",
     "text": [
      "Enter a number:3\n",
      "27\n",
      "Not Armstrong\n"
     ]
    }
   ],
   "source": [
    "#6 Write a function cubesum() that accepts an integer and returns the sum of the cubes of individual digits of that number. Use this function to make functions PrintArmstrong() andisArmstrong() to print Armstrong numbers and to find whether is an Armstrong number.\n",
    "\n",
    "def cubesum(n):\n",
    "    '''\n",
    "    this function add the cube of digit\n",
    "    '''\n",
    "    cube = 0\n",
    "    \n",
    "    while n > 0:\n",
    "        digit = n % 10\n",
    "        cube += digit ** 3\n",
    "        n //= 10\n",
    "    print(cube)\n",
    "    \n",
    "    \n",
    "    \n",
    "num = int(input('Enter a number:'))\n",
    "\n",
    "if num == cubesum(num):\n",
    "    print('Armstrong number'.format(num))\n",
    "else:\n",
    "    print('Not Armstrong')"
   ]
  },
  {
   "cell_type": "code",
   "execution_count": 104,
   "metadata": {},
   "outputs": [
    {
     "data": {
      "text/plain": [
       "48"
      ]
     },
     "execution_count": 104,
     "metadata": {},
     "output_type": "execute_result"
    }
   ],
   "source": [
    "#7 Write a function prodDigits() that inputs a number and returns the product of digits of that number\n",
    "\n",
    "def ProdDigit(n):\n",
    "    '''\n",
    "    this function product the digit of number\n",
    "    '''\n",
    "    product = 1\n",
    "    \n",
    "    while n > 0:\n",
    "        digit = n % 10\n",
    "        product *= digit\n",
    "        n //= 10\n",
    "    return product\n",
    "    \n",
    "    \n",
    "ProdDigit(86)"
   ]
  },
  {
   "cell_type": "code",
   "execution_count": 105,
   "metadata": {},
   "outputs": [
    {
     "data": {
      "text/plain": [
       "(2, 2)"
      ]
     },
     "execution_count": 105,
     "metadata": {},
     "output_type": "execute_result"
    }
   ],
   "source": [
    "#8 If all digits of a number n are multiplied by each other repeating with the product, the one digit number obtained at last is called the multiplicative digital root of n. The number of times digits need to be multiplied to reach one digit is called the multiplicative persistance of n. Example: 86 -> 48 -> 32 -> 6 (MDR 6, MPersistence 3) 341 -> 12->2 (MDR 2, MPersistence 2) Using the function prodDigits() of previous exercise write functions MDR() and MPersistence() that input a number and return its multiplicative digital root and multiplicative persistence respectively\n",
    "\n",
    "def MDR(n):\n",
    "    '''\n",
    "    this function returns multiplicative digital root.\n",
    "    '''\n",
    "    count, mdr = 0, n \n",
    "    while mdr > 9:\n",
    "        m, digitsMul = mdr, 1\n",
    "        while m:\n",
    "            m, md = divmod(m, 10)\n",
    "            digitsMul *= md\n",
    "        mdr = digitsMul\n",
    "        count += 1\n",
    "    return count, mdr\n",
    "\n",
    "MDR(341)"
   ]
  },
  {
   "cell_type": "code",
   "execution_count": 106,
   "metadata": {},
   "outputs": [
    {
     "name": "stdout",
     "output_type": "stream",
     "text": [
      "1\n",
      "2\n",
      "4\n",
      "5\n",
      "10\n",
      "11\n",
      "20\n",
      "22\n",
      "44\n",
      "55\n",
      "110\n"
     ]
    },
    {
     "data": {
      "text/plain": [
       "284"
      ]
     },
     "execution_count": 106,
     "metadata": {},
     "output_type": "execute_result"
    }
   ],
   "source": [
    "#9 Write a function sumPdivisors() that finds the sum of proper divisors of a number. Proper divisors of a number are those numbers by which the number is divisible, except the number itself. For example proper divisors of 36 are 1, 2, 3, 4, 6, 9, 18\n",
    "\n",
    "def pdivisor(n):\n",
    "    '''\n",
    "    this function add the divisor of the number\n",
    "    '''\n",
    "    sum1= 0\n",
    "    \n",
    "    if n > 0:\n",
    "        for i in range(1, n):\n",
    "            if n % i == 0:\n",
    "                sum1 += i\n",
    "                print(i)\n",
    "        return sum1\n",
    "\n",
    "pdivisor(220)"
   ]
  },
  {
   "cell_type": "code",
   "execution_count": 107,
   "metadata": {},
   "outputs": [
    {
     "name": "stdout",
     "output_type": "stream",
     "text": [
      "1\n",
      "2\n",
      "3\n",
      "4\n",
      "6\n",
      "9\n",
      "12\n",
      "18\n",
      "36 is not a perfect number\n"
     ]
    }
   ],
   "source": [
    "# 10 A number is called perfect if the sum of proper divisors of that number is equal to the number. For example 28 is perfect number, since 1+2+4+7+14=28. Write a program to print all the perfect numbers in a given range\n",
    "\n",
    "def perfectsum(n):\n",
    "    '''\n",
    "    perfect sum of pdivisor\n",
    "    '''\n",
    "    \n",
    "    if n > 0:\n",
    "        if pdivisor(n) == n:\n",
    "            print('{0} is a perfect number'.format(n))\n",
    "        else:\n",
    "            print('{0} is not a perfect number'.format(n))\n",
    "    return\n",
    "\n",
    "perfectsum(36)"
   ]
  },
  {
   "cell_type": "code",
   "execution_count": 108,
   "metadata": {},
   "outputs": [
    {
     "name": "stdout",
     "output_type": "stream",
     "text": [
      "1\n",
      "2\n",
      "4\n",
      "71\n",
      "142\n",
      "1\n",
      "2\n",
      "4\n",
      "5\n",
      "10\n",
      "11\n",
      "20\n",
      "22\n",
      "44\n",
      "55\n",
      "110\n",
      "284 and 220 is a amicable number\n"
     ]
    }
   ],
   "source": [
    "#11 Two different numbers are called amicable numbers if the sum of the proper divisors of each is equal to the other number. For example 220 and 284 are amicable numbers. Sum of proper divisors of 220 = 1+2+4+5+10+11+20+22+44+55+110 = 284 Sum of proper divisors of 284 = 1+2+4+71+142 = 220 Write a function to print pairs of amicable numbers in a range\n",
    "\n",
    "def amicable(a, b):\n",
    "    '''\n",
    "    amicable of numbers\n",
    "    '''\n",
    "    \n",
    "    if a and b > 0:\n",
    "        if pdivisor(a) == b and pdivisor(b) == a:\n",
    "            print('{0} and {1} is a amicable number'.format(a, b))\n",
    "        else:\n",
    "            print('{0} and {1} is not a amicable number'.format(a, b))\n",
    "    return\n",
    "\n",
    "amicable(284, 220)"
   ]
  },
  {
   "cell_type": "code",
   "execution_count": 109,
   "metadata": {},
   "outputs": [
    {
     "name": "stdout",
     "output_type": "stream",
     "text": [
      "[1, 2, 3, 4, 5, 6, 7, 8, 9]\n",
      "[3, 5, 7, 9]\n"
     ]
    }
   ],
   "source": [
    "#12. Write a program which can filter odd numbers in a list by using filter function\n",
    "\n",
    "def odd_number(n):\n",
    "    '''\n",
    "    this function detect odd number\n",
    "    '''\n",
    "    \n",
    "    if n > 1:\n",
    "        if n % 2 == 1:\n",
    "            return n\n",
    "\n",
    "list1 = range(1, 10)\n",
    "print(list(list1))\n",
    "\n",
    "odd_list = list(filter(odd_number, list1))\n",
    "print(odd_list)"
   ]
  },
  {
   "cell_type": "code",
   "execution_count": 110,
   "metadata": {},
   "outputs": [
    {
     "name": "stdout",
     "output_type": "stream",
     "text": [
      "8\n",
      "[1, 2, 3, 4, 5, 6, 7, 8, 9]\n",
      "[1, 8, 27, 64, 125, 216, 343, 512, 729]\n"
     ]
    }
   ],
   "source": [
    "#13. Write a program which can map() to make a list whose elements are cube of elements in a given list\n",
    "\n",
    "def cube_number(n):\n",
    "    '''\n",
    "    this function retrun cube of a number\n",
    "    '''\n",
    "    \n",
    "    if n > 0:\n",
    "        return n ** 3\n",
    "    return\n",
    "\n",
    "print(cube_number(2))\n",
    "\n",
    "list2 = list(range(1, 10))\n",
    "print(list2)\n",
    "\n",
    "cube = list(map(cube_number, list2))\n",
    "print(cube)"
   ]
  },
  {
   "cell_type": "code",
   "execution_count": 111,
   "metadata": {},
   "outputs": [
    {
     "name": "stdout",
     "output_type": "stream",
     "text": [
      "[1, 2, 3, 4, 5, 6, 7, 8, 9]\n",
      "[2, 4, 6, 8]\n",
      "[8, 64, 216, 512]\n"
     ]
    }
   ],
   "source": [
    "#14. Write a program which can map() and filter() to make a list whose elements are cube of even number in a given list\n",
    "\n",
    "def even_number(n):\n",
    "    '''\n",
    "    this function print even number\n",
    "    '''\n",
    "    lst = []\n",
    "    \n",
    "    if n > 1:\n",
    "        if n % 2 == 0:\n",
    "            return n\n",
    "            \n",
    "list1 = list(range(1, 10))\n",
    "print(list1)\n",
    "\n",
    "even_number = list(filter(even_number, list1))\n",
    "print(list(even_number))\n",
    "\n",
    "cube_even_number = list(map(cube_number, even_number))\n",
    "print(cube_even_number)"
   ]
  }
 ],
 "metadata": {
  "kernelspec": {
   "display_name": "Python 3",
   "language": "python",
   "name": "python3"
  },
  "language_info": {
   "codemirror_mode": {
    "name": "ipython",
    "version": 3
   },
   "file_extension": ".py",
   "mimetype": "text/x-python",
   "name": "python",
   "nbconvert_exporter": "python",
   "pygments_lexer": "ipython3",
   "version": "3.7.4"
  }
 },
 "nbformat": 4,
 "nbformat_minor": 2
}
